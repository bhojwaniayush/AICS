{
  "nbformat": 4,
  "nbformat_minor": 0,
  "metadata": {
    "colab": {
      "provenance": [],
      "include_colab_link": true
    },
    "kernelspec": {
      "name": "python3",
      "display_name": "Python 3"
    },
    "language_info": {
      "name": "python"
    }
  },
  "cells": [
    {
      "cell_type": "markdown",
      "metadata": {
        "id": "view-in-github",
        "colab_type": "text"
      },
      "source": [
        "<a href=\"https://colab.research.google.com/github/bhojwaniayush/AICS/blob/main/AICS%20prac%201.ipynb\" target=\"_parent\"><img src=\"https://colab.research.google.com/assets/colab-badge.svg\" alt=\"Open In Colab\"/></a>"
      ]
    },
    {
      "cell_type": "code",
      "execution_count": 1,
      "metadata": {
        "colab": {
          "base_uri": "https://localhost:8080/"
        },
        "id": "fY3Otv3WcReh",
        "outputId": "c872a9ea-8f6d-4bb1-e57b-fb1287307788"
      },
      "outputs": [
        {
          "output_type": "stream",
          "name": "stdout",
          "text": [
            "[1, 5, 8, 9]\n"
          ]
        }
      ],
      "source": [
        "l=[8,5,1,6]\n",
        "l.append(9)\n",
        "l.remove(6)\n",
        "l.sort()\n",
        "print(l)"
      ]
    },
    {
      "cell_type": "code",
      "source": [
        "dict={1:'apple',2:'ball'}\n",
        "dict['c']='cat'\n",
        "print(dict)\n",
        "print(dict[1])\n",
        "dict.pop('c')\n",
        "print(dict.items())\n",
        "print(dict.keys())"
      ],
      "metadata": {
        "colab": {
          "base_uri": "https://localhost:8080/"
        },
        "id": "2pP8OExlc4a5",
        "outputId": "a4d37c76-117f-462c-8acb-1c70eb823929"
      },
      "execution_count": 11,
      "outputs": [
        {
          "output_type": "stream",
          "name": "stdout",
          "text": [
            "{1: 'apple', 2: 'ball', 'c': 'cat'}\n",
            "apple\n",
            "dict_items([(1, 'apple'), (2, 'ball')])\n",
            "dict_keys([1, 2])\n"
          ]
        }
      ]
    }
  ]
}